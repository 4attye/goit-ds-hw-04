{
 "cells": [
  {
   "cell_type": "code",
   "execution_count": 1,
   "id": "7eb4869a-9b2e-4171-9173-26633f1dca39",
   "metadata": {},
   "outputs": [],
   "source": [
    "import numpy as np"
   ]
  },
  {
   "cell_type": "markdown",
   "id": "8aa63004-1659-436b-968f-05c760ffa49c",
   "metadata": {},
   "source": [
    "1. Замініть усі непарні числа в arr на -1 arr = np.array([0, 1, 2, 3, 4, 5, 6, 7, 8, 9])"
   ]
  },
  {
   "cell_type": "code",
   "execution_count": 5,
   "id": "6bbd4b29-3b3f-4cfd-8185-ddd205673c49",
   "metadata": {},
   "outputs": [],
   "source": [
    "arr = np.array([0, 1, 2, 3, 4, 5, 6, 7, 8, 9])\n",
    "arr[arr % 2 != 0] = -1"
   ]
  },
  {
   "cell_type": "code",
   "execution_count": 7,
   "id": "938378cd-909e-4928-bd40-7e629e57f53d",
   "metadata": {},
   "outputs": [
    {
     "data": {
      "text/plain": [
       "array([ 0, -1,  2, -1,  4, -1,  6, -1,  8, -1])"
      ]
     },
     "execution_count": 7,
     "metadata": {},
     "output_type": "execute_result"
    }
   ],
   "source": [
    "arr"
   ]
  },
  {
   "cell_type": "markdown",
   "id": "12a93e99-5cae-4b33-9efa-2096cb677490",
   "metadata": {},
   "source": [
    "2. Створіть та перетворіть 1D-масив на 2D-масив із 2 рядками"
   ]
  },
  {
   "cell_type": "code",
   "execution_count": 11,
   "id": "dc67aaa0-0deb-4597-ac41-09e498470330",
   "metadata": {},
   "outputs": [],
   "source": [
    "arr_b = np.array([1, 2, 3, 4, 5, 6, 7, 8])"
   ]
  },
  {
   "cell_type": "code",
   "execution_count": 261,
   "id": "c9c85fcf-290e-415e-815d-240d83d50f81",
   "metadata": {},
   "outputs": [
    {
     "data": {
      "text/plain": [
       "array([[1, 2, 3, 4],\n",
       "       [5, 6, 7, 8]])"
      ]
     },
     "execution_count": 261,
     "metadata": {},
     "output_type": "execute_result"
    }
   ],
   "source": [
    "arr_b.reshape(2, -1)"
   ]
  },
  {
   "cell_type": "markdown",
   "id": "3794f208-f8c1-4fe3-8c11-85c4b4b1c7e0",
   "metadata": {},
   "source": [
    "3. Створіть два двовимірні масиви а і b, та складіть масиви їх вертикально"
   ]
  },
  {
   "cell_type": "code",
   "execution_count": 20,
   "id": "56f27b0b-fcf0-41ba-9edd-3c6460ef3aa7",
   "metadata": {},
   "outputs": [],
   "source": [
    "arr_c = np.array([[1, 2, 3], [4, 5, 6]])"
   ]
  },
  {
   "cell_type": "code",
   "execution_count": 22,
   "id": "28c22c49-0ce7-4562-a98a-d7b0492ee6ea",
   "metadata": {},
   "outputs": [],
   "source": [
    "arr_d = np.array([[7, 8, 9], [10, 11, 12]])"
   ]
  },
  {
   "cell_type": "code",
   "execution_count": 30,
   "id": "ceea5277-41c9-4655-b865-711cae215740",
   "metadata": {},
   "outputs": [
    {
     "data": {
      "text/plain": [
       "array([[ 1,  2,  3],\n",
       "       [ 4,  5,  6],\n",
       "       [ 7,  8,  9],\n",
       "       [10, 11, 12]])"
      ]
     },
     "execution_count": 30,
     "metadata": {},
     "output_type": "execute_result"
    }
   ],
   "source": [
    "np.vstack((arr_c, arr_d))"
   ]
  },
  {
   "cell_type": "markdown",
   "id": "5124cf29-18f2-472f-94c1-09d402d391fa",
   "metadata": {},
   "source": [
    "4. Створіть наступний шаблон без жорсткого кодування(Hard coding) . Використовуйте лише функції Numpy і наведений нижче масив введення Input:a = np.array([1,2,3])\n",
    "\n",
    "Output:array([1, 1, 1, 2, 2, 2, 3, 3, 3, 1, 2, 3, 1, 2, 3, 1, 2, 3])\n"
   ]
  },
  {
   "cell_type": "code",
   "execution_count": 75,
   "id": "db5f4aa5-f5b5-43c4-9f82-ce6ebd82e953",
   "metadata": {},
   "outputs": [],
   "source": [
    "arr_e = np.array([1, 2, 3])"
   ]
  },
  {
   "cell_type": "code",
   "execution_count": 77,
   "id": "73401764-b790-4aee-915e-59a6b5a56f41",
   "metadata": {},
   "outputs": [],
   "source": [
    "repeated_elements = np.repeat(arr_e, 3)"
   ]
  },
  {
   "cell_type": "code",
   "execution_count": 87,
   "id": "ebdf4f9a-7f18-49cc-ac6e-105322db28ed",
   "metadata": {},
   "outputs": [
    {
     "data": {
      "text/plain": [
       "array([1, 1, 1, 2, 2, 2, 3, 3, 3])"
      ]
     },
     "execution_count": 87,
     "metadata": {},
     "output_type": "execute_result"
    }
   ],
   "source": [
    "repeated_elements"
   ]
  },
  {
   "cell_type": "code",
   "execution_count": 81,
   "id": "7954cd24-23a9-4d92-a3fd-14d66c6229f9",
   "metadata": {},
   "outputs": [],
   "source": [
    "tiled_elements = np.tile(arr_e, 3)"
   ]
  },
  {
   "cell_type": "code",
   "execution_count": 89,
   "id": "1eb300b1-66cc-4126-9b63-c31a803c6edb",
   "metadata": {},
   "outputs": [
    {
     "data": {
      "text/plain": [
       "array([1, 2, 3, 1, 2, 3, 1, 2, 3])"
      ]
     },
     "execution_count": 89,
     "metadata": {},
     "output_type": "execute_result"
    }
   ],
   "source": [
    "tiled_elements"
   ]
  },
  {
   "cell_type": "code",
   "execution_count": 85,
   "id": "cd3c78db-7b7d-4318-9098-c4679b67e5d9",
   "metadata": {},
   "outputs": [
    {
     "data": {
      "text/plain": [
       "array([1, 1, 1, 2, 2, 2, 3, 3, 3, 1, 2, 3, 1, 2, 3, 1, 2, 3])"
      ]
     },
     "execution_count": 85,
     "metadata": {},
     "output_type": "execute_result"
    }
   ],
   "source": [
    "np.hstack((repeated_elements, tiled_elements))"
   ]
  },
  {
   "cell_type": "markdown",
   "id": "17610319-4e21-4112-b4f9-1ea44bc4649e",
   "metadata": {},
   "source": [
    "5. Отримайте спільні елементи між a і b\n",
    "\n",
    "a = np.array([1,2,3,2,3,4,3,4,5,6]) b = np.array([7,2,10,2,7,4,9,4,9,8])"
   ]
  },
  {
   "cell_type": "code",
   "execution_count": 180,
   "id": "35199523-cf14-487d-a51b-ab292dc99462",
   "metadata": {},
   "outputs": [],
   "source": [
    "a = np.array([1, 2, 3, 2, 3, 4, 3, 4, 5, 6])"
   ]
  },
  {
   "cell_type": "code",
   "execution_count": 182,
   "id": "31279b57-8a55-46bc-8ce9-c965f0d26a51",
   "metadata": {},
   "outputs": [],
   "source": [
    "b = np.array([7,2,10,2,7,4,9,4,9,8])"
   ]
  },
  {
   "cell_type": "code",
   "execution_count": 101,
   "id": "aee8449a-c65b-4d99-8e4b-5c11cd221aeb",
   "metadata": {},
   "outputs": [
    {
     "data": {
      "text/plain": [
       "array([2, 4])"
      ]
     },
     "execution_count": 101,
     "metadata": {},
     "output_type": "execute_result"
    }
   ],
   "source": [
    "np.array([item for item in np.unique(a) if item in np.unique(b)])"
   ]
  },
  {
   "cell_type": "markdown",
   "id": "dcdd334c-9e3b-4127-8bd6-033af28e162b",
   "metadata": {},
   "source": [
    "6. Отримайте позиції перших 5 максимальних значень у заданому масиві a\n",
    "\n",
    "np.random.seed(100) a = np.random.uniform(1,50, 20)"
   ]
  },
  {
   "cell_type": "code",
   "execution_count": 104,
   "id": "6aab1a6a-e0b3-4daf-b315-1a0d2ca2b484",
   "metadata": {},
   "outputs": [],
   "source": [
    "arr_f = np.random.uniform(1,50, 20)"
   ]
  },
  {
   "cell_type": "code",
   "execution_count": 106,
   "id": "2d7529a8-dc8c-4d90-ad32-16d03c8f83c1",
   "metadata": {},
   "outputs": [
    {
     "data": {
      "text/plain": [
       "array([36.00933323, 48.76313155, 16.00420901, 27.02802789, 30.82187491,\n",
       "       12.54801684,  6.81700245, 33.96537894, 19.75645315, 22.77179436,\n",
       "        6.11687525, 18.50492517, 46.56525291, 36.6140643 , 13.58681331,\n",
       "       27.41908299, 49.58055462, 34.91579441, 16.85464996, 18.05051376])"
      ]
     },
     "execution_count": 106,
     "metadata": {},
     "output_type": "execute_result"
    }
   ],
   "source": [
    "arr_f"
   ]
  },
  {
   "cell_type": "code",
   "execution_count": 130,
   "id": "cc416450-3fd3-47b2-a583-84daf827615b",
   "metadata": {},
   "outputs": [],
   "source": [
    "arr_sorted = np.sort(arr_f)"
   ]
  },
  {
   "cell_type": "code",
   "execution_count": 136,
   "id": "f09d3098-6097-4fe3-bfff-cae35e88f87c",
   "metadata": {},
   "outputs": [
    {
     "data": {
      "text/plain": [
       "array([ 6.11687525,  6.81700245, 12.54801684, 13.58681331, 16.00420901,\n",
       "       16.85464996, 18.05051376, 18.50492517, 19.75645315, 22.77179436,\n",
       "       27.02802789, 27.41908299, 30.82187491, 33.96537894, 34.91579441,\n",
       "       36.00933323, 36.6140643 , 46.56525291, 48.76313155, 49.58055462])"
      ]
     },
     "execution_count": 136,
     "metadata": {},
     "output_type": "execute_result"
    }
   ],
   "source": [
    "arr_sorted"
   ]
  },
  {
   "cell_type": "code",
   "execution_count": 134,
   "id": "7429953f-2fa6-4913-adb5-02d9e38b8dd2",
   "metadata": {},
   "outputs": [
    {
     "data": {
      "text/plain": [
       "array([36.00933323, 36.6140643 , 46.56525291, 48.76313155, 49.58055462])"
      ]
     },
     "execution_count": 134,
     "metadata": {},
     "output_type": "execute_result"
    }
   ],
   "source": [
    "arr_sorted[-5:]"
   ]
  },
  {
   "cell_type": "markdown",
   "id": "b9ada29d-f629-4b13-8f7b-a55fb7c9163f",
   "metadata": {},
   "source": [
    "7. Вилучіть усі значення NaN із одновимірного масиву\n",
    "\n",
    "а=np.array([1,2,3,np.nan,5,6,7,np.nan])"
   ]
  },
  {
   "cell_type": "code",
   "execution_count": 165,
   "id": "fb5e0c9c-fd61-4ea5-bebb-35e2813d1410",
   "metadata": {},
   "outputs": [],
   "source": [
    "arr_g = np.array([1,2,3,np.nan,5,6,7,np.nan])"
   ]
  },
  {
   "cell_type": "code",
   "execution_count": 167,
   "id": "6c08760e-d65b-469b-9ae3-2d770bbf3831",
   "metadata": {},
   "outputs": [
    {
     "data": {
      "text/plain": [
       "array([1., 2., 3., 5., 6., 7.])"
      ]
     },
     "execution_count": 167,
     "metadata": {},
     "output_type": "execute_result"
    }
   ],
   "source": [
    "arr_g[~np.isnan(arr_g)]"
   ]
  },
  {
   "cell_type": "markdown",
   "id": "7e8852ca-42bd-4392-b3d2-89036026acb9",
   "metadata": {},
   "source": [
    "8. Обчисліть евклідову відстань між двома масивами a і b.\n",
    "\n",
    "a = np.array([1,2,3,4,5]) b = np.array([4,5,6,7,8])"
   ]
  },
  {
   "cell_type": "code",
   "execution_count": 184,
   "id": "ef2cc7b7-4565-45eb-a8fb-90a679d5f3ea",
   "metadata": {},
   "outputs": [],
   "source": [
    "arr_h = np.array([1,2,3,4,5])\n",
    "arr_i = np.array([4,5,6,7,8])"
   ]
  },
  {
   "cell_type": "code",
   "execution_count": 216,
   "id": "0213591c-10af-4cab-a65d-c68822a7446e",
   "metadata": {},
   "outputs": [],
   "source": [
    "arr_j= (arr_h - arr_i)**2"
   ]
  },
  {
   "cell_type": "code",
   "execution_count": 220,
   "id": "5ed65c72-2955-4906-b8e4-7e93e8a90bfd",
   "metadata": {},
   "outputs": [
    {
     "data": {
      "text/plain": [
       "array([9, 9, 9, 9, 9])"
      ]
     },
     "execution_count": 220,
     "metadata": {},
     "output_type": "execute_result"
    }
   ],
   "source": [
    "arr_j"
   ]
  },
  {
   "cell_type": "code",
   "execution_count": 218,
   "id": "3712e238-6cde-4530-b54f-12799f7d162a",
   "metadata": {},
   "outputs": [
    {
     "data": {
      "text/plain": [
       "6.708203932499369"
      ]
     },
     "execution_count": 218,
     "metadata": {},
     "output_type": "execute_result"
    }
   ],
   "source": [
    "np.sqrt(sum(arr_j))"
   ]
  },
  {
   "cell_type": "markdown",
   "id": "bad13dcb-7ec2-4285-8aef-530b6a7a2ff0",
   "metadata": {},
   "source": [
    "9. Знайдіть індекс 5-го повторення числа 1 у масиві x\n",
    "\n",
    "x = np.array([1, 2, 1, 1, 3, 4, 3, 1, 1, 2, 1, 1, 2])"
   ]
  },
  {
   "cell_type": "code",
   "execution_count": 223,
   "id": "59337152-08f1-4cff-9275-e78999efee2f",
   "metadata": {},
   "outputs": [],
   "source": [
    "x = np.array([1, 2, 1, 1, 3, 4, 3, 1, 1, 2, 1, 1, 2])"
   ]
  },
  {
   "cell_type": "code",
   "execution_count": 231,
   "id": "12956baf-061b-4d3e-a5f8-669d69b43b8d",
   "metadata": {},
   "outputs": [
    {
     "name": "stdout",
     "output_type": "stream",
     "text": [
      "8\n"
     ]
    }
   ],
   "source": [
    "count = 0\n",
    "\n",
    "for i, value in enumerate(x):\n",
    "    if value == 1:\n",
    "        count += 1\n",
    "        if count == 5:\n",
    "            print(i)       "
   ]
  },
  {
   "cell_type": "markdown",
   "id": "42faeb6e-1341-4074-aba8-c33d4c9944ca",
   "metadata": {},
   "source": [
    "10. Знайдіть повторювані записи (від 2-го випадку повторення і далі) у заданому масиві і позначте їх як True. Перше повторення має бути False.\n",
    "\n",
    "Input np.random.seed(100) a = np.random.randint(0, 5, 10)\n",
    "\n",
    "[0 0 3 0 2 4 2 2 2 2] #Output [False True False True False False True True True True]"
   ]
  },
  {
   "cell_type": "code",
   "execution_count": 235,
   "id": "58f4da46-abda-438c-ab42-a7c63ce0a0f9",
   "metadata": {},
   "outputs": [],
   "source": [
    "np.random.seed(100)\n",
    "arr_k = np.random.randint(0, 5, 10)"
   ]
  },
  {
   "cell_type": "code",
   "execution_count": 257,
   "id": "bbf890c8-87fa-4f6c-a087-60fdb5761de7",
   "metadata": {},
   "outputs": [
    {
     "data": {
      "text/plain": [
       "array([0, 0, 3, 0, 2, 4, 2, 2, 2, 2])"
      ]
     },
     "execution_count": 257,
     "metadata": {},
     "output_type": "execute_result"
    }
   ],
   "source": [
    "arr_k"
   ]
  },
  {
   "cell_type": "code",
   "execution_count": 259,
   "id": "5d01309f-e572-4a90-beec-a4c2e07b1440",
   "metadata": {},
   "outputs": [
    {
     "name": "stdout",
     "output_type": "stream",
     "text": [
      "[False, True, False, True, False, False, True, True, True, True]\n"
     ]
    }
   ],
   "source": [
    "result = [False] * len(arr_k)\n",
    "count = {}\n",
    "\n",
    "for i, value in enumerate(arr_k):\n",
    "    if value in count:\n",
    "        count[value] += 1\n",
    "        if count[value] > 1:\n",
    "           result[i] = True\n",
    "    else: count[value] = 1\n",
    "print(result)"
   ]
  },
  {
   "cell_type": "code",
   "execution_count": null,
   "id": "2c29d1a0-0933-487c-8353-0f4b542d9dbc",
   "metadata": {},
   "outputs": [],
   "source": []
  }
 ],
 "metadata": {
  "kernelspec": {
   "display_name": "Python 3 (ipykernel)",
   "language": "python",
   "name": "python3"
  },
  "language_info": {
   "codemirror_mode": {
    "name": "ipython",
    "version": 3
   },
   "file_extension": ".py",
   "mimetype": "text/x-python",
   "name": "python",
   "nbconvert_exporter": "python",
   "pygments_lexer": "ipython3",
   "version": "3.12.4"
  }
 },
 "nbformat": 4,
 "nbformat_minor": 5
}
