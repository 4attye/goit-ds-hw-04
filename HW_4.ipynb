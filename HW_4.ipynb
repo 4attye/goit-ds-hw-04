{
 "cells": [
  {
   "cell_type": "code",
   "execution_count": 1,
   "id": "5e816b33-b141-4b54-b8f3-0e612aa34dea",
   "metadata": {},
   "outputs": [],
   "source": [
    "import numpy as np"
   ]
  },
  {
   "cell_type": "markdown",
   "id": "95a86d99-198e-433b-8688-59cedfccbb62",
   "metadata": {},
   "source": [
    "1.Створіть одновимірний масив (вектор) з першими 10-ма натуральними числами та виведіть його значення."
   ]
  },
  {
   "cell_type": "code",
   "execution_count": 359,
   "id": "c4290023-066b-445e-b903-62b16c6b87ca",
   "metadata": {},
   "outputs": [
    {
     "data": {
      "text/plain": [
       "array([ 1,  2,  3,  4,  5,  6,  7,  8,  9, 10])"
      ]
     },
     "execution_count": 359,
     "metadata": {},
     "output_type": "execute_result"
    }
   ],
   "source": [
    "np.array([1, 2, 3, 4, 5, 6, 7, 8, 9, 10])"
   ]
  },
  {
   "cell_type": "markdown",
   "id": "e3733820-a218-4d91-b3a9-5363bfe5a70a",
   "metadata": {},
   "source": [
    "2.Створіть двовимірний масив (матрицю) розміром 3x3, заповніть його нулями та виведіть його значення."
   ]
  },
  {
   "cell_type": "code",
   "execution_count": 353,
   "id": "82c012f2-d13f-459c-ad79-4b212d0d072d",
   "metadata": {},
   "outputs": [
    {
     "data": {
      "text/plain": [
       "array([[0., 0., 0.],\n",
       "       [0., 0., 0.],\n",
       "       [0., 0., 0.]])"
      ]
     },
     "execution_count": 353,
     "metadata": {},
     "output_type": "execute_result"
    }
   ],
   "source": [
    "np.zeros((3, 3))"
   ]
  },
  {
   "cell_type": "markdown",
   "id": "0fc0652d-0407-4184-bf74-a4ad40518663",
   "metadata": {},
   "source": [
    "3.Створіть масив розміром 5x5, заповніть його випадковими цілими числами в діапазоні від 1 до 10 та виведіть його значення."
   ]
  },
  {
   "cell_type": "code",
   "execution_count": 357,
   "id": "e532ce37-78dd-4640-880a-baab5e467913",
   "metadata": {},
   "outputs": [
    {
     "data": {
      "text/plain": [
       "array([[1, 5, 3, 7, 2],\n",
       "       [3, 5, 9, 4, 5],\n",
       "       [2, 4, 8, 7, 1],\n",
       "       [6, 7, 5, 1, 2],\n",
       "       [9, 2, 4, 6, 8]])"
      ]
     },
     "execution_count": 357,
     "metadata": {},
     "output_type": "execute_result"
    }
   ],
   "source": [
    "np.array([[1, 5, 3, 7, 2],\n",
    "             [3, 5, 9, 4, 5],\n",
    "             [2, 4, 8, 7 ,1],\n",
    "             [6, 7, 5, 1, 2],\n",
    "             [9, 2, 4, 6, 8]])"
   ]
  },
  {
   "cell_type": "markdown",
   "id": "851313db-5190-404c-a09a-4a9675e1bc4e",
   "metadata": {},
   "source": [
    "4.Створіть масив розміром 4x4, заповніть його випадковими дійсними числами в діапазоні від 0 до 1 та виведіть його значення."
   ]
  },
  {
   "cell_type": "code",
   "execution_count": 355,
   "id": "48d9d0ef-b2dc-492d-ba25-e4eee93e6f96",
   "metadata": {},
   "outputs": [
    {
     "data": {
      "text/plain": [
       "array([[0.6801433 , 0.06388611, 0.05200067, 0.82481388],\n",
       "       [0.97469736, 0.52860049, 0.93127142, 0.18028382],\n",
       "       [0.01964597, 0.68483474, 0.92694881, 0.55200071],\n",
       "       [0.29985147, 0.95631481, 0.68302616, 0.80066104]])"
      ]
     },
     "execution_count": 355,
     "metadata": {},
     "output_type": "execute_result"
    }
   ],
   "source": [
    "np.random.random((4, 4))"
   ]
  },
  {
   "cell_type": "markdown",
   "id": "5030f053-9c3d-4968-9790-5618da9f3544",
   "metadata": {},
   "source": [
    "5.Створіть два одновимірних масиви розміром 5, заповніть їх випадковими цілими числами в діапазоні від 1 до 10 та виконайте на них поелементні операції додавання, віднімання та множення."
   ]
  },
  {
   "cell_type": "code",
   "execution_count": 108,
   "id": "23407e6e-67a1-4615-a323-ff27662faa84",
   "metadata": {},
   "outputs": [],
   "source": [
    "vector_c = np.array([2, 9, 3, 4, 8])"
   ]
  },
  {
   "cell_type": "code",
   "execution_count": 118,
   "id": "66e30ed9-0ee5-43ff-8ba8-f1c0998e501e",
   "metadata": {},
   "outputs": [],
   "source": [
    "vector_d = np.array([7, 3, 6, 4, 1])"
   ]
  },
  {
   "cell_type": "code",
   "execution_count": 120,
   "id": "9ddac9ca-df92-4251-90f4-ecd330457924",
   "metadata": {},
   "outputs": [
    {
     "data": {
      "text/plain": [
       "array([ 9, 12,  9,  8,  9])"
      ]
     },
     "execution_count": 120,
     "metadata": {},
     "output_type": "execute_result"
    }
   ],
   "source": [
    "vector_c + vector_d"
   ]
  },
  {
   "cell_type": "code",
   "execution_count": 122,
   "id": "b7ecb9cf-dba0-4815-9008-ae4ee8eaf8e7",
   "metadata": {},
   "outputs": [
    {
     "data": {
      "text/plain": [
       "array([-5,  6, -3,  0,  7])"
      ]
     },
     "execution_count": 122,
     "metadata": {},
     "output_type": "execute_result"
    }
   ],
   "source": [
    "vector_c - vector_d"
   ]
  },
  {
   "cell_type": "code",
   "execution_count": 124,
   "id": "1e0b190c-395e-4f3d-b6bd-b1639be63d10",
   "metadata": {},
   "outputs": [
    {
     "data": {
      "text/plain": [
       "array([14, 27, 18, 16,  8])"
      ]
     },
     "execution_count": 124,
     "metadata": {},
     "output_type": "execute_result"
    }
   ],
   "source": [
    "vector_c * vector_d"
   ]
  },
  {
   "cell_type": "markdown",
   "id": "9a2eb4ed-fe1e-49ba-98e8-946fc7f1a1c3",
   "metadata": {},
   "source": [
    "6.Створіть два вектори розміром 7, заповніть довільними числами та знайдіть їх скалярний добуток."
   ]
  },
  {
   "cell_type": "code",
   "execution_count": 127,
   "id": "b5178cc9-a891-4c6c-8905-6ce010511de9",
   "metadata": {},
   "outputs": [],
   "source": [
    "vector_e = np.random.randint(1, 11, size=7)"
   ]
  },
  {
   "cell_type": "code",
   "execution_count": 427,
   "id": "69d5ce8d-d5fc-40b3-ad26-d2b2c1dc4864",
   "metadata": {},
   "outputs": [
    {
     "data": {
      "text/plain": [
       "array([ 3,  5,  3, 10,  9,  9,  6])"
      ]
     },
     "execution_count": 427,
     "metadata": {},
     "output_type": "execute_result"
    }
   ],
   "source": [
    "vector_e"
   ]
  },
  {
   "cell_type": "code",
   "execution_count": 129,
   "id": "0ee2b41b-61f5-4bb1-8d9d-1dd8a9cce679",
   "metadata": {},
   "outputs": [],
   "source": [
    "vector_f = np.random.randint(1, 11, size=7)"
   ]
  },
  {
   "cell_type": "code",
   "execution_count": 429,
   "id": "88a11db1-fc81-4d1a-9574-824d24df57c7",
   "metadata": {},
   "outputs": [
    {
     "data": {
      "text/plain": [
       "array([ 5,  2,  9, 10, 10,  7,  8])"
      ]
     },
     "execution_count": 429,
     "metadata": {},
     "output_type": "execute_result"
    }
   ],
   "source": [
    "vector_f"
   ]
  },
  {
   "cell_type": "code",
   "execution_count": 349,
   "id": "50fb942d-5583-4c80-8cda-552ab4dca61f",
   "metadata": {},
   "outputs": [
    {
     "data": {
      "text/plain": [
       "353"
      ]
     },
     "execution_count": 349,
     "metadata": {},
     "output_type": "execute_result"
    }
   ],
   "source": [
    "np.dot(vector_e, vector_f)"
   ]
  },
  {
   "cell_type": "markdown",
   "id": "439a752b-dad1-45c5-a0ac-47757e25d824",
   "metadata": {},
   "source": [
    "7.Створіть дві матриці розміром 2x2 та 2x3, заповніть їх випадковими цілими числами в діапазоні від 1 до 10 та перемножте їх між собою."
   ]
  },
  {
   "cell_type": "code",
   "execution_count": 250,
   "id": "520d9bf4-d59d-43d1-b8f1-61f656e52d07",
   "metadata": {},
   "outputs": [],
   "source": [
    "matrix_a = np.array([[2, 8],\n",
    "                    [4, 3]])"
   ]
  },
  {
   "cell_type": "code",
   "execution_count": 252,
   "id": "0270e615-b39a-43e1-8a5c-54c6c030c481",
   "metadata": {},
   "outputs": [],
   "source": [
    "matrix_b = np.array([[7, 1, 5],\n",
    "                    [3, 9, 4]])"
   ]
  },
  {
   "cell_type": "code",
   "execution_count": 347,
   "id": "44c86227-8b32-405d-b2fe-28d8ac63a73e",
   "metadata": {},
   "outputs": [
    {
     "data": {
      "text/plain": [
       "array([[38, 74, 42],\n",
       "       [37, 31, 32]])"
      ]
     },
     "execution_count": 347,
     "metadata": {},
     "output_type": "execute_result"
    }
   ],
   "source": [
    "np.dot(matrix_a, matrix_b)"
   ]
  },
  {
   "cell_type": "markdown",
   "id": "1960ee31-b810-4730-90e8-3ed2d681476f",
   "metadata": {},
   "source": [
    "8.Створіть матрицю розміром 3x3, заповніть її випадковими цілими числами в діапазоні від 1 до 10 та знайдіть її обернену матрицю."
   ]
  },
  {
   "cell_type": "code",
   "execution_count": 258,
   "id": "7f9bfcf2-37c5-4447-b043-336a8268a385",
   "metadata": {},
   "outputs": [],
   "source": [
    "matrix_c = np.array([[4, 5, 1],\n",
    "                    [2, 9, 7],\n",
    "                    [6, 3, 8]])"
   ]
  },
  {
   "cell_type": "code",
   "execution_count": 345,
   "id": "c2f492fb-83fb-48dc-b276-68dd17475423",
   "metadata": {},
   "outputs": [
    {
     "data": {
      "text/plain": [
       "array([[ 0.17832168, -0.12937063,  0.09090909],\n",
       "       [ 0.09090909,  0.09090909, -0.09090909],\n",
       "       [-0.16783217,  0.06293706,  0.09090909]])"
      ]
     },
     "execution_count": 345,
     "metadata": {},
     "output_type": "execute_result"
    }
   ],
   "source": [
    "np.linalg.inv(matrix_c)"
   ]
  },
  {
   "cell_type": "markdown",
   "id": "88f75832-87dd-44d1-be59-ec1be953bcf7",
   "metadata": {},
   "source": [
    "9.Створіть матрицю розміром 4x4, заповніть її випадковими дійсними числами в діапазоні від 0 до 1 та транспонуйте її"
   ]
  },
  {
   "cell_type": "code",
   "execution_count": 443,
   "id": "0b110d0d-da8d-449e-be68-b17ede6c8701",
   "metadata": {},
   "outputs": [],
   "source": [
    "matrix_r = np.random.random((4, 4))"
   ]
  },
  {
   "cell_type": "code",
   "execution_count": 445,
   "id": "3348c39f-97c1-42e8-b98d-67dda2c9f268",
   "metadata": {},
   "outputs": [
    {
     "data": {
      "text/plain": [
       "array([[0.61356648, 0.88174851, 0.84702208, 0.30330867],\n",
       "       [0.25808301, 0.49293717, 0.64154325, 0.25150624],\n",
       "       [0.75956502, 0.07805566, 0.62888808, 0.3725162 ],\n",
       "       [0.30044709, 0.41259789, 0.37255048, 0.97905541]])"
      ]
     },
     "execution_count": 445,
     "metadata": {},
     "output_type": "execute_result"
    }
   ],
   "source": [
    "matrix_r"
   ]
  },
  {
   "cell_type": "code",
   "execution_count": 449,
   "id": "045166f0-a8ff-427b-93ea-85e357e997ed",
   "metadata": {},
   "outputs": [
    {
     "data": {
      "text/plain": [
       "array([[0.61356648, 0.25808301, 0.75956502, 0.30044709],\n",
       "       [0.88174851, 0.49293717, 0.07805566, 0.41259789],\n",
       "       [0.84702208, 0.64154325, 0.62888808, 0.37255048],\n",
       "       [0.30330867, 0.25150624, 0.3725162 , 0.97905541]])"
      ]
     },
     "execution_count": 449,
     "metadata": {},
     "output_type": "execute_result"
    }
   ],
   "source": [
    "matrix_r.T"
   ]
  },
  {
   "cell_type": "markdown",
   "id": "a968eea4-b084-45b0-bbe6-1206499ef962",
   "metadata": {},
   "source": [
    "10.Створіть матрицю розміром 3x4 та вектор розміром 4, заповніть їх випадковими цілими числами в діапазоні від 1 до 10 та перемножте матрицю на вектор."
   ]
  },
  {
   "cell_type": "code",
   "execution_count": 276,
   "id": "613613b4-22a9-42a2-8107-76e190f74247",
   "metadata": {},
   "outputs": [],
   "source": [
    "matrix_d = np.random.randint(1, 10, size=(3, 4))"
   ]
  },
  {
   "cell_type": "code",
   "execution_count": 451,
   "id": "89fcd40e-53eb-4b2a-9fcb-5878885c13e3",
   "metadata": {},
   "outputs": [
    {
     "data": {
      "text/plain": [
       "array([[3, 8, 4, 4],\n",
       "       [7, 7, 3, 6],\n",
       "       [9, 1, 2, 2]])"
      ]
     },
     "execution_count": 451,
     "metadata": {},
     "output_type": "execute_result"
    }
   ],
   "source": [
    "matrix_d"
   ]
  },
  {
   "cell_type": "code",
   "execution_count": 278,
   "id": "9de29bc8-5e21-4e72-86cf-00ab705ac20b",
   "metadata": {},
   "outputs": [],
   "source": [
    "vector_g = np.random.randint(1, 10, size=4)"
   ]
  },
  {
   "cell_type": "code",
   "execution_count": 453,
   "id": "abc29d30-d5e2-43ad-b8f0-310c4a86a1b8",
   "metadata": {},
   "outputs": [
    {
     "data": {
      "text/plain": [
       "array([9, 8, 4, 7])"
      ]
     },
     "execution_count": 453,
     "metadata": {},
     "output_type": "execute_result"
    }
   ],
   "source": [
    "vector_g"
   ]
  },
  {
   "cell_type": "code",
   "execution_count": 455,
   "id": "4680abad-1766-41da-99ef-e80974bc5956",
   "metadata": {},
   "outputs": [
    {
     "data": {
      "text/plain": [
       "array([135, 173, 111])"
      ]
     },
     "execution_count": 455,
     "metadata": {},
     "output_type": "execute_result"
    }
   ],
   "source": [
    "np.dot(matrix_d, vector_g)"
   ]
  },
  {
   "cell_type": "markdown",
   "id": "8159ea86-6b2e-4c61-bca3-e967c118ad81",
   "metadata": {},
   "source": [
    "11.Створіть матрицю розміром 2x3 та вектор розміром 3, заповніть їх випадковими дійсними числами в діапазоні від 0 до 1 та перемножте матрицю на вектор."
   ]
  },
  {
   "cell_type": "code",
   "execution_count": 285,
   "id": "a83cd196-ec1a-45c3-b6c4-8a1154c22293",
   "metadata": {},
   "outputs": [],
   "source": [
    "matrix_e = np.random.random(size=(2,3))"
   ]
  },
  {
   "cell_type": "code",
   "execution_count": 457,
   "id": "a88faeba-f3de-4410-9a95-546a375c298a",
   "metadata": {},
   "outputs": [
    {
     "data": {
      "text/plain": [
       "array([[0.84483891, 0.87344267, 0.43885259],\n",
       "       [0.52854617, 0.91300736, 0.60455368]])"
      ]
     },
     "execution_count": 457,
     "metadata": {},
     "output_type": "execute_result"
    }
   ],
   "source": [
    "matrix_e"
   ]
  },
  {
   "cell_type": "code",
   "execution_count": 287,
   "id": "86a4faa3-6c0d-4880-b346-a60304a37e8a",
   "metadata": {},
   "outputs": [],
   "source": [
    "vector_h = np.random.random(3)"
   ]
  },
  {
   "cell_type": "code",
   "execution_count": 459,
   "id": "a8788691-e505-4611-ad85-aef9e4f42797",
   "metadata": {},
   "outputs": [
    {
     "data": {
      "text/plain": [
       "array([0.06054981, 0.20849802, 0.54542608])"
      ]
     },
     "execution_count": 459,
     "metadata": {},
     "output_type": "execute_result"
    }
   ],
   "source": [
    "vector_h"
   ]
  },
  {
   "cell_type": "code",
   "execution_count": 339,
   "id": "f81f2151-810c-41e4-9e0b-6b7a08b08fec",
   "metadata": {},
   "outputs": [
    {
     "data": {
      "text/plain": [
       "array([0.47262755, 0.55210294])"
      ]
     },
     "execution_count": 339,
     "metadata": {},
     "output_type": "execute_result"
    }
   ],
   "source": [
    "np.dot(matrix_e, vector_h)"
   ]
  },
  {
   "cell_type": "markdown",
   "id": "38600636-4bee-4d63-a20d-07f8f1a6ba13",
   "metadata": {},
   "source": [
    "12.Створіть дві матриці розміром 2x2, заповніть їх випадковими цілими числами в діапазоні від 1 до 10 та виконайте їхнє поелементне множення."
   ]
  },
  {
   "cell_type": "code",
   "execution_count": 294,
   "id": "7c5213d3-ddc7-45fe-a307-b0853f8ef8ca",
   "metadata": {},
   "outputs": [],
   "source": [
    "matrix_f = np.array([[3, 8],\n",
    "                    [7, 1]])"
   ]
  },
  {
   "cell_type": "code",
   "execution_count": 296,
   "id": "7907652c-83cf-41a3-90b1-d691f2eaa888",
   "metadata": {},
   "outputs": [],
   "source": [
    "matrix_g = np.array([[6, 2],\n",
    "                    [4, 4]])"
   ]
  },
  {
   "cell_type": "code",
   "execution_count": 298,
   "id": "061a7f9f-24b2-4380-b411-94e1e87ac2f2",
   "metadata": {},
   "outputs": [
    {
     "data": {
      "text/plain": [
       "array([[18, 16],\n",
       "       [28,  4]])"
      ]
     },
     "execution_count": 298,
     "metadata": {},
     "output_type": "execute_result"
    }
   ],
   "source": [
    "matrix_f * matrix_g"
   ]
  },
  {
   "cell_type": "markdown",
   "id": "4999082d-30bc-421b-860b-0fabf4c58421",
   "metadata": {},
   "source": [
    "13.Створіть дві матриці розміром 2x2, заповніть їх випадковими цілими числами в діапазоні від 1 до 10 та знайдіть їх добуток."
   ]
  },
  {
   "cell_type": "code",
   "execution_count": 301,
   "id": "b547374b-b9ee-4b84-a830-e5eb8e207ac2",
   "metadata": {},
   "outputs": [],
   "source": [
    "matrix_h = np.array([[2, 8],\n",
    "                    [1, 3]])"
   ]
  },
  {
   "cell_type": "code",
   "execution_count": 303,
   "id": "1664d498-ff6b-4a49-a4ba-196a8fb32eff",
   "metadata": {},
   "outputs": [],
   "source": [
    "matrix_i = np.array([[3, 7],\n",
    "                    [2, 1]])"
   ]
  },
  {
   "cell_type": "code",
   "execution_count": 337,
   "id": "3c0d544c-401f-438b-9385-6c6c40f7bc1d",
   "metadata": {},
   "outputs": [
    {
     "data": {
      "text/plain": [
       "array([[22, 22],\n",
       "       [ 9, 10]])"
      ]
     },
     "execution_count": 337,
     "metadata": {},
     "output_type": "execute_result"
    }
   ],
   "source": [
    "np.dot(matrix_h, matrix_i)"
   ]
  },
  {
   "cell_type": "markdown",
   "id": "ab56e43d-e3b2-4b42-9387-60c7cf451130",
   "metadata": {},
   "source": [
    "14.Створіть матрицю розміром 5x5, заповніть її випадковими цілими числами в діапазоні від 1 до 100 та знайдіть суму елементів матриці."
   ]
  },
  {
   "cell_type": "code",
   "execution_count": 316,
   "id": "6b756a0f-2744-4b88-b01d-51c45af8fd19",
   "metadata": {},
   "outputs": [],
   "source": [
    "matrix_j = np.random.randint(1, 100, size=(5, 5))"
   ]
  },
  {
   "cell_type": "code",
   "execution_count": 461,
   "id": "21da8f7a-bc9f-4acb-a9a0-ed239c403efa",
   "metadata": {},
   "outputs": [
    {
     "data": {
      "text/plain": [
       "array([[92, 80, 90, 35, 60],\n",
       "       [63, 79, 71, 54, 80],\n",
       "       [85, 43, 99, 12, 64],\n",
       "       [97, 13, 19, 67, 14],\n",
       "       [68, 59, 89, 24, 64]])"
      ]
     },
     "execution_count": 461,
     "metadata": {},
     "output_type": "execute_result"
    }
   ],
   "source": [
    "matrix_j"
   ]
  },
  {
   "cell_type": "code",
   "execution_count": 318,
   "id": "bb516f3c-efdd-4d56-b9d3-4171d4f53c6b",
   "metadata": {},
   "outputs": [
    {
     "data": {
      "text/plain": [
       "1521"
      ]
     },
     "execution_count": 318,
     "metadata": {},
     "output_type": "execute_result"
    }
   ],
   "source": [
    "matrix_j.sum()"
   ]
  },
  {
   "cell_type": "markdown",
   "id": "8fba4067-0945-44e6-85d7-daba50bb767a",
   "metadata": {},
   "source": [
    "15.Створіть дві матриці розміром 4x4, заповніть їх випадковими цілими числами в діапазоні від 1 до 10 та знайдіть їхню різницю."
   ]
  },
  {
   "cell_type": "code",
   "execution_count": 323,
   "id": "690c66ec-d727-4e44-a375-baa066e36a8a",
   "metadata": {},
   "outputs": [],
   "source": [
    "matrix_k = np.random.randint(1, 10, size=(4, 4))"
   ]
  },
  {
   "cell_type": "code",
   "execution_count": 392,
   "id": "976bc4ac-ce18-427f-b133-18b8827bf3c5",
   "metadata": {},
   "outputs": [
    {
     "data": {
      "text/plain": [
       "array([[2, 9, 2, 1],\n",
       "       [4, 1, 9, 4],\n",
       "       [4, 1, 9, 2],\n",
       "       [8, 8, 1, 7]])"
      ]
     },
     "execution_count": 392,
     "metadata": {},
     "output_type": "execute_result"
    }
   ],
   "source": [
    "matrix_k"
   ]
  },
  {
   "cell_type": "code",
   "execution_count": 325,
   "id": "79515c8b-28f1-42c1-999e-e246fbec5a10",
   "metadata": {},
   "outputs": [],
   "source": [
    "matrix_l = np.random.randint(1, 10, size=(4, 4))"
   ]
  },
  {
   "cell_type": "code",
   "execution_count": 394,
   "id": "337b4222-2a54-4521-b585-798e2634a986",
   "metadata": {},
   "outputs": [
    {
     "data": {
      "text/plain": [
       "array([[2, 7, 9, 4],\n",
       "       [4, 3, 9, 1],\n",
       "       [8, 9, 8, 2],\n",
       "       [4, 2, 3, 6]])"
      ]
     },
     "execution_count": 394,
     "metadata": {},
     "output_type": "execute_result"
    }
   ],
   "source": [
    "matrix_l"
   ]
  },
  {
   "cell_type": "code",
   "execution_count": 329,
   "id": "ffb2387f-08f3-4c76-8863-5e207f63e832",
   "metadata": {},
   "outputs": [
    {
     "data": {
      "text/plain": [
       "array([[ 0,  2, -7, -3],\n",
       "       [ 0, -2,  0,  3],\n",
       "       [-4, -8,  1,  0],\n",
       "       [ 4,  6, -2,  1]])"
      ]
     },
     "execution_count": 329,
     "metadata": {},
     "output_type": "execute_result"
    }
   ],
   "source": [
    "matrix_k - matrix_l"
   ]
  },
  {
   "cell_type": "markdown",
   "id": "0f702d50-f91c-47f5-9908-2df02dbcf583",
   "metadata": {},
   "source": [
    "16.Створіть матрицю розміром 3x3, заповніть її випадковими дійсними числами в діапазоні від 0 до 1 та знайдіть вектор-стовпчик, що містить суму елементів кожного рядка матриці."
   ]
  },
  {
   "cell_type": "code",
   "execution_count": 362,
   "id": "aa625ce6-6b21-472a-8fb8-48d61d1d2dee",
   "metadata": {},
   "outputs": [],
   "source": [
    "matrix_m = np.random.random(size=(3, 3))"
   ]
  },
  {
   "cell_type": "code",
   "execution_count": 368,
   "id": "ad75df01-895b-44af-82d5-55069c49d1ed",
   "metadata": {},
   "outputs": [
    {
     "data": {
      "text/plain": [
       "array([[0.67033053, 0.23482073, 0.96325834],\n",
       "       [0.55274214, 0.07835605, 0.52420164],\n",
       "       [0.44974294, 0.91816815, 0.97325716]])"
      ]
     },
     "execution_count": 368,
     "metadata": {},
     "output_type": "execute_result"
    }
   ],
   "source": [
    "matrix_m"
   ]
  },
  {
   "cell_type": "code",
   "execution_count": 374,
   "id": "f281cdb0-bd55-46e8-b05b-ad883e0effb9",
   "metadata": {},
   "outputs": [],
   "source": [
    "vector_sums = matrix_m.sum(axis=1)"
   ]
  },
  {
   "cell_type": "code",
   "execution_count": 376,
   "id": "b4bbb1ab-10ac-4326-b92e-b730a949e724",
   "metadata": {},
   "outputs": [
    {
     "data": {
      "text/plain": [
       "array([1.86840961, 1.15529983, 2.34116825])"
      ]
     },
     "execution_count": 376,
     "metadata": {},
     "output_type": "execute_result"
    }
   ],
   "source": [
    "vector_sums"
   ]
  },
  {
   "cell_type": "code",
   "execution_count": 390,
   "id": "6801780c-dd6a-4f7a-bb4f-b6b306ea43ea",
   "metadata": {},
   "outputs": [
    {
     "data": {
      "text/plain": [
       "array([[1.86840961],\n",
       "       [1.15529983],\n",
       "       [2.34116825]])"
      ]
     },
     "execution_count": 390,
     "metadata": {},
     "output_type": "execute_result"
    }
   ],
   "source": [
    "vector_sums.reshape(3, 1)"
   ]
  },
  {
   "cell_type": "markdown",
   "id": "171485fd-813b-4ad9-854c-38ed2934e396",
   "metadata": {},
   "source": [
    "17.Створіть матрицю розміром 3x4 з довільними цілими числами і створінь матрицю з квадратами цих чисел."
   ]
  },
  {
   "cell_type": "code",
   "execution_count": 406,
   "id": "1b61dbf0-67de-4b5d-867b-e1516fd5ee36",
   "metadata": {},
   "outputs": [],
   "source": [
    "matrix_n = np.random.randint(1, 10, size=(3, 4))"
   ]
  },
  {
   "cell_type": "code",
   "execution_count": 412,
   "id": "d7040b51-43ef-43fd-869f-a8688b78d547",
   "metadata": {},
   "outputs": [
    {
     "data": {
      "text/plain": [
       "array([[4, 4, 1, 3],\n",
       "       [2, 7, 6, 1],\n",
       "       [4, 3, 9, 2]])"
      ]
     },
     "execution_count": 412,
     "metadata": {},
     "output_type": "execute_result"
    }
   ],
   "source": [
    "matrix_n"
   ]
  },
  {
   "cell_type": "code",
   "execution_count": 414,
   "id": "cb8abb6d-c3f4-42aa-a6a5-5a026041fa3d",
   "metadata": {},
   "outputs": [
    {
     "data": {
      "text/plain": [
       "array([[16, 16,  1,  9],\n",
       "       [ 4, 49, 36,  1],\n",
       "       [16,  9, 81,  4]])"
      ]
     },
     "execution_count": 414,
     "metadata": {},
     "output_type": "execute_result"
    }
   ],
   "source": [
    "np.square(matrix_n)"
   ]
  },
  {
   "cell_type": "markdown",
   "id": "8dcbca1a-be26-4398-aa9e-016430b4c4ae",
   "metadata": {},
   "source": [
    "18.Створіть вектор розміром 4, заповніть його випадковими цілими числами в діапазоні від 1 до 50 та знайдіть вектор з квадратними коренями цих чисел."
   ]
  },
  {
   "cell_type": "code",
   "execution_count": 417,
   "id": "b95aaa57-a1e9-4b87-9926-cf64fd474376",
   "metadata": {},
   "outputs": [],
   "source": [
    "matrix_o = np.random.randint(1, 50, size=4)"
   ]
  },
  {
   "cell_type": "code",
   "execution_count": 421,
   "id": "797ff3f8-e16a-4fa6-9775-c80cc8b90b13",
   "metadata": {},
   "outputs": [
    {
     "data": {
      "text/plain": [
       "array([21,  9, 23, 18])"
      ]
     },
     "execution_count": 421,
     "metadata": {},
     "output_type": "execute_result"
    }
   ],
   "source": [
    "matrix_o"
   ]
  },
  {
   "cell_type": "code",
   "execution_count": 419,
   "id": "10e330f8-3e70-444b-a9ee-d6c1906fc466",
   "metadata": {},
   "outputs": [
    {
     "data": {
      "text/plain": [
       "array([4.58257569, 3.        , 4.79583152, 4.24264069])"
      ]
     },
     "execution_count": 419,
     "metadata": {},
     "output_type": "execute_result"
    }
   ],
   "source": [
    "np.sqrt(matrix_o)"
   ]
  },
  {
   "cell_type": "code",
   "execution_count": null,
   "id": "36cd84c1-f220-4688-b1ed-c15a72f81510",
   "metadata": {},
   "outputs": [],
   "source": []
  }
 ],
 "metadata": {
  "kernelspec": {
   "display_name": "Python 3 (ipykernel)",
   "language": "python",
   "name": "python3"
  },
  "language_info": {
   "codemirror_mode": {
    "name": "ipython",
    "version": 3
   },
   "file_extension": ".py",
   "mimetype": "text/x-python",
   "name": "python",
   "nbconvert_exporter": "python",
   "pygments_lexer": "ipython3",
   "version": "3.12.4"
  }
 },
 "nbformat": 4,
 "nbformat_minor": 5
}
